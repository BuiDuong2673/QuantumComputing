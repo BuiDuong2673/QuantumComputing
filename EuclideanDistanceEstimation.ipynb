{
 "cells": [
  {
   "cell_type": "markdown",
   "id": "5ae960df-c057-4643-b06e-08b1106976af",
   "metadata": {},
   "source": [
    "# Experiment: Calculating Euclidean distance quantumly\n",
    "This program is done for testing the accuracy of the Euclidean distance calculated by quantum hardware."
   ]
  },
  {
   "cell_type": "code",
   "execution_count": 1,
   "id": "f82ae4b3-392e-4425-a41f-0648f41b4c12",
   "metadata": {},
   "outputs": [],
   "source": [
    "from qiskit import QuantumCircuit, QuantumRegister, ClassicalRegister\n",
    "from qiskit.primitives import (StatevectorSampler, Estimator, StatevectorEstimator)\n",
    "from qiskit.transpiler.preset_passmanagers import generate_preset_pass_manager\n",
    "from qiskit_ibm_runtime import QiskitRuntimeService, SamplerV2 as Sampler\n",
    "from qiskit.compiler import transpile\n",
    "from qiskit_aer import AerSimulator\n",
    "\"\"\" Create an account in IBM Quantum Platform https://quantum.ibm.com/ to obtain your own token\"\"\"\n",
    "QiskitRuntimeService.save_account(channel=\"ibm_quantum\", \n",
    "                                  token=\"<YOUR TOKEN>\",\n",
    "                                  set_as_default=True, overwrite=True)\n",
    "service = QiskitRuntimeService()"
   ]
  },
  {
   "cell_type": "code",
   "execution_count": 2,
   "id": "a071d88f-0211-472a-ab1f-fbfd1c6fa9ed",
   "metadata": {},
   "outputs": [],
   "source": [
    "import numpy as np\n",
    "import math\n",
    "import random\n",
    "\n",
    "from sklearn.datasets import load_iris\n",
    "from sklearn.preprocessing import MinMaxScaler\n",
    "from sklearn.decomposition import PCA\n",
    "from sklearn.model_selection import train_test_split\n",
    "from sklearn.cluster import KMeans"
   ]
  },
  {
   "cell_type": "code",
   "execution_count": 3,
   "id": "d73ca93f-7987-43c7-a281-07988ce292a9",
   "metadata": {},
   "outputs": [],
   "source": [
    "def classical_distance(point_1, point_2):\n",
    "    \"\"\"\n",
    "    Classically calculate the Euclidean distance between 2 points\n",
    "    \"\"\"\n",
    "    euclidean_distance = math.sqrt((point_1[0] - point_2[0]) ** 2 + (point_1[1] - point_2[1]) ** 2)\n",
    "    return euclidean_distance"
   ]
  },
  {
   "cell_type": "code",
   "execution_count": 4,
   "id": "f6be0940-19a5-422c-95ea-669d94117971",
   "metadata": {},
   "outputs": [],
   "source": [
    "def polar_angle(point):\n",
    "    \"\"\"\n",
    "    Calculating polar angle\n",
    "    \"\"\"\n",
    "    polar_angle = math.atan2(point[1], point[0])\n",
    "    return polar_angle\n",
    "\n",
    "def polar_radius(point):\n",
    "    \"\"\"\n",
    "    Calculating polar coordinate\n",
    "    \"\"\"\n",
    "    polar_radius = math.sqrt(point[0] ** 2 + point[1] ** 2)\n",
    "    return polar_radius"
   ]
  },
  {
   "cell_type": "code",
   "execution_count": 5,
   "id": "2bb9415f-8381-4a27-9fb6-04953ad9c3e8",
   "metadata": {},
   "outputs": [],
   "source": [
    "def quantum_distance(dataset, num_qubits):\n",
    "    # Calculate the number of distances can be calculated at the same time\n",
    "    num_distances = 0\n",
    "    num_distances, remainder = divmod(num_qubits, 2)\n",
    "    # Initialize quantum circuit\n",
    "    qr = QuantumRegister(num_distances * 2, name=\"q\")\n",
    "    cr = ClassicalRegister(num_distances, name=\"c\")\n",
    "    qc = QuantumCircuit(qr, cr)\n",
    "     # Initialize a the list contaisn all the pairs of points whose distances have been calculated\n",
    "    calculated_distances = {}\n",
    "    i = 0\n",
    "    dataset_copy = dataset.copy()\n",
    "    while len(dataset_copy) > 0:\n",
    "        point1 = dataset_copy.pop()\n",
    "        point2 = dataset_copy.pop()\n",
    "        angle1 = polar_angle(point1)\n",
    "        angle2 = polar_angle(point2)\n",
    "        # Prepare quantum circuit\n",
    "        qc.h(qr[i * 2])\n",
    "        qc.cx(qr[i * 2], qr[i * 2 + 1])\n",
    "        qc.ry(-abs(angle1 - angle2), qr[i * 2 + 1])\n",
    "        qc.cx(qr[i * 2], qr[i * 2 + 1])\n",
    "        qc.ry(abs(angle1 - angle2), qr[i * 2 + 1])\n",
    "        # Inteferernce and measurement\n",
    "        qc.h(qr[i * 2])\n",
    "        qc.measure(qr[i * 2], cr[i])\n",
    "        # Update the index and calculated_distances\n",
    "        calculated_distances[i] = {'pair': [point1, point2], 'count_1': 0}\n",
    "        i += 1\n",
    "    # Execute the quantum circuit\n",
    "    \"\"\"Uncomment the following lines of code to run on quantum system\"\"\"\n",
    "    backend = service.get_backend('ibm_kyoto')\n",
    "    pm = generate_preset_pass_manager(backend=backend, optimization_level=1)\n",
    "    circuit = pm.run(qc)\n",
    "    sampler = Sampler(backend)\n",
    "    \"\"\"Uncomment the following lines of code to run on noisy quantum simulator\"\"\"\n",
    "    #real_backend = service.backend(\"ibm_kyoto\")\n",
    "    #aer = AerSimulator.from_backend(real_backend)\n",
    "    #pm = generate_preset_pass_manager(backend=aer, optimization_level=1)\n",
    "    #circuit = pm.run(qc)\n",
    "    #sampler = Sampler(backend=aer)\n",
    "    \"\"\" Uncomment the following lines of code to run on ideal local simulator\"\"\"\n",
    "    #sampler = StatevectorSampler()\n",
    "    job = sampler.run([circuit], shots=8192)\n",
    "    result = job.result()[0]\n",
    "    count = result.data.c.get_counts()\n",
    "    state_list = list(count.keys())\n",
    "    for state in state_list:\n",
    "        for idx, bit in enumerate(state):\n",
    "            state_count = count.get(state, 0)\n",
    "            if bit == '1':\n",
    "                if (len(calculated_distances.items()) - idx - 1) >= 0:\n",
    "                    calculated_distances[len(calculated_distances.items()) - idx - 1]['count_1'] += state_count\n",
    "    for key, value in calculated_distances.items():\n",
    "        probability_1 = value['count_1'] / 8192\n",
    "        point1 = value['pair'][0]\n",
    "        point2 = value['pair'][1]\n",
    "        # Calculate the distance from the probability of |1>\n",
    "        radius1 = polar_radius(point1)\n",
    "        radius2 = polar_radius(point2)\n",
    "        distance = math.sqrt(radius1 ** 2 + radius2 ** 2 - 2 * radius1 * radius2 * (1 - 2 * probability_1))\n",
    "        # Compare the quantum result with classical result\n",
    "        classical_dist = classical_distance(point1, point2)\n",
    "        qc_difference = abs(distance - classical_dist)\n",
    "        print(f\"Quantum-Classical distance between {point1} and {point2} difference: {qc_difference}\")"
   ]
  },
  {
   "cell_type": "code",
   "execution_count": 6,
   "id": "d1e794fe-c739-42e7-9bf7-1c277c5f153f",
   "metadata": {},
   "outputs": [
    {
     "name": "stderr",
     "output_type": "stream",
     "text": [
      "C:\\Users\\Admin\\AppData\\Roaming\\Python\\Python39\\site-packages\\qiskit_ibm_runtime\\qiskit_runtime_service.py:879: UserWarning: Your current pending jobs are estimated to consume 649.5556236231932 quantum seconds, but you only have 511 quantum seconds left in your monthly quota; therefore, it is likely this job will be canceled\n",
      "  warnings.warn(warning_message)\n"
     ]
    },
    {
     "name": "stdout",
     "output_type": "stream",
     "text": [
      "Quantum-Classical distance between [-0.6257804985628276, 0.05713354113434377] and [0.5110202145758135, -0.13257591538169197] difference: 0.13558280196173866\n",
      "Quantum-Classical distance between [-0.656537789993852, 0.010724491106869776] and [0.5139326307785076, 0.09888163229704708] difference: 0.02514720223568645\n",
      "Quantum-Classical distance between [0.10383104269125022, -0.12178174239523801] and [0.5434892461418294, -0.054439910368968294] difference: 0.002121316530867723\n",
      "Quantum-Classical distance between [0.48482666253145734, 0.11534865817996512] and [-0.06876975010843102, -0.18564800737703896] difference: 0.0070803077580446905\n",
      "Quantum-Classical distance between [0.21948548888608416, 0.10938392765823472] and [0.36914899749077357, 0.06434807195275628] difference: 0.046844173753792545\n"
     ]
    }
   ],
   "source": [
    "num_data = 10\n",
    "# Import the Iris dataset\n",
    "iris_data = load_iris()\n",
    "features = iris_data.data\n",
    "labels = iris_data.target\n",
    "# Normalize the features\n",
    "# Apply MinMaxScaler to map data onto (0, 1)\n",
    "features = MinMaxScaler().fit_transform(features)\n",
    "# Reduce the number of features\n",
    "features = PCA(n_components=2).fit_transform(features)\n",
    "# Select randomly num_data indices\n",
    "random_indices = np.random.choice(len(features), size=num_data, replace=False)\n",
    "# Extract features and corresponding labels using random_indices\n",
    "testing_features = features[random_indices]\n",
    "features_list = testing_features.tolist()\n",
    "quantum_distance(features_list, num_data)"
   ]
  }
 ],
 "metadata": {
  "kernelspec": {
   "display_name": "Python 3 (ipykernel)",
   "language": "python",
   "name": "python3"
  },
  "language_info": {
   "codemirror_mode": {
    "name": "ipython",
    "version": 3
   },
   "file_extension": ".py",
   "mimetype": "text/x-python",
   "name": "python",
   "nbconvert_exporter": "python",
   "pygments_lexer": "ipython3",
   "version": "3.9.5"
  }
 },
 "nbformat": 4,
 "nbformat_minor": 5
}
